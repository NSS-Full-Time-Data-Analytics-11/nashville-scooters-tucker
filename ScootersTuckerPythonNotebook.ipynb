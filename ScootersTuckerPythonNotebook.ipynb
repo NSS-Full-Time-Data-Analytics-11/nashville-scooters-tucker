{
 "cells": [
  {
   "cell_type": "code",
   "execution_count": 1,
   "id": "2536ac45",
   "metadata": {},
   "outputs": [],
   "source": [
    "from shapely.geometry import Point\n",
    "import pandas as pd\n",
    "import geopandas as gpd\n",
    "import matplotlib.pyplot as plt\n",
    "import folium\n",
    "from folium.plugins import MarkerCluster\n",
    "from folium.plugins import FastMarkerCluster\n",
    "import plotly.express as px\n",
    "import psycopg2\n",
    "from folium.plugins import HeatMap\n",
    "import rtree\n",
    "%matplotlib inline"
   ]
  },
  {
   "cell_type": "code",
   "execution_count": null,
   "id": "18c1803f",
   "metadata": {},
   "outputs": [],
   "source": [
    "pip install plotly"
   ]
  },
  {
   "cell_type": "code",
   "execution_count": null,
   "id": "09cea950",
   "metadata": {},
   "outputs": [],
   "source": [
    "zipcode_population_clean = pd.read_csv('zipcode_population_clean.csv')\n"
   ]
  },
  {
   "cell_type": "code",
   "execution_count": null,
   "id": "0bb0e108",
   "metadata": {},
   "outputs": [],
   "source": [
    "zipcodes_geojson_data = gpd.read_file('Zip Codes.geojson')\n"
   ]
  },
  {
   "cell_type": "code",
   "execution_count": null,
   "id": "571a78d9",
   "metadata": {},
   "outputs": [],
   "source": [
    "zipcode_population_clean['ZipCode'] = zipcode_population_clean['ZipCode'].astype(str)\n"
   ]
  },
  {
   "cell_type": "code",
   "execution_count": null,
   "id": "48f80136",
   "metadata": {},
   "outputs": [],
   "source": [
    "zipcodes_geojson_data = gpd.read_file('Zip Codes.geojson')"
   ]
  },
  {
   "cell_type": "code",
   "execution_count": null,
   "id": "35ed4a05",
   "metadata": {},
   "outputs": [],
   "source": [
    "print(zipcodes_geojson_data.columns)"
   ]
  },
  {
   "cell_type": "code",
   "execution_count": null,
   "id": "a2518498",
   "metadata": {},
   "outputs": [],
   "source": [
    "zipcodes_with_population = zipcodes_geojson_data.merge(zipcode_population_clean, how=\"left\", left_on=\"zipcode\", right_on=\"ZipCode\")\n"
   ]
  },
  {
   "cell_type": "code",
   "execution_count": null,
   "id": "1cb15900",
   "metadata": {},
   "outputs": [],
   "source": [
    "zipcode_population_clean['ZipCode'] = zipcode_population_clean['ZipCode'].astype(str)\n",
    "zipcodes_geojson_data['zipcode'] = zipcodes_geojson_data['zipcode'].astype(str)"
   ]
  },
  {
   "cell_type": "code",
   "execution_count": null,
   "id": "5815942d",
   "metadata": {},
   "outputs": [],
   "source": [
    "zipcodes_with_population = zipcodes_geojson_data.merge(zipcode_population_clean, how=\"left\", left_on=\"zipcode\", right_on=\"ZipCode\")\n"
   ]
  },
  {
   "cell_type": "code",
   "execution_count": null,
   "id": "6bc73ef1",
   "metadata": {},
   "outputs": [],
   "source": [
    "fig = px.choropleth_mapbox(zipcodes_with_population,\n",
    "                           geojson=zipcodes_with_population.geometry,\n",
    "                           locations=zipcodes_with_population.index,\n",
    "                           color='Population',\n",
    "                           hover_name='poname', \n",
    "                           hover_data={'ZipCode': True, 'Population': True},\n",
    "                           color_continuous_scale=\"Viridis\",\n",
    "                           mapbox_style=\"carto-positron\",\n",
    "                           zoom=9,\n",
    "                           center={\"lat\": 36.1627, \"lon\": -86.7816},\n",
    "                           opacity=0.5,\n",
    "                           labels={'Population': 'Population'},\n",
    "                           title='Nashville Zip Code Areas by Population')"
   ]
  },
  {
   "cell_type": "code",
   "execution_count": null,
   "id": "2962852f",
   "metadata": {},
   "outputs": [],
   "source": [
    "fig.update_layout(coloraxis_colorbar=dict(title=\"Population\"))\n",
    "fig.show()"
   ]
  },
  {
   "cell_type": "code",
   "execution_count": null,
   "id": "c9ff164e",
   "metadata": {},
   "outputs": [],
   "source": [
    "fig.update_layout(height=700)"
   ]
  },
  {
   "cell_type": "code",
   "execution_count": null,
   "id": "aae408f9",
   "metadata": {},
   "outputs": [],
   "source": [
    "html_file_path = '../data/nashville_zipcode_map.html'\n",
    "fig.write_html(html_file_path, include_plotlyjs='cdn')"
   ]
  },
  {
   "cell_type": "code",
   "execution_count": null,
   "id": "c295f6ed",
   "metadata": {
    "scrolled": true
   },
   "outputs": [],
   "source": [
    "import psycopg2\n",
    "import pandas as pd\n",
    "import matplotlib.pyplot as plt\n",
    "\n",
    "db_name = 'scooter'\n",
    "db_user = 'postgres'\n",
    "db_password = 'postgres'\n",
    "db_host = 'localhost'\n",
    "db_port = '5432'\n",
    "\n",
    "colors = {\n",
    "    'May': 'skyblue',\n",
    "    'June': 'lightgreen',\n",
    "    'July': 'salmon'\n",
    "}\n",
    "\n",
    "\n",
    "conn = psycopg2.connect(dbname=db_name, user=db_user, password=db_password, host=db_host, port=db_port)\n",
    "\n",
    "# Months of interest\n",
    "months = {\n",
    "    'May': 5,\n",
    "    'June': 6,\n",
    "    'July': 7\n",
    "}\n",
    "\n",
    "for month_name, month_number in months.items():\n",
    "    sql_query = f\"\"\"\n",
    "    SELECT day_of_week, COUNT(*) AS trip_count\n",
    "    FROM (\n",
    "        SELECT to_char(startdate, 'Dy') AS day_of_week\n",
    "        FROM trips\n",
    "        WHERE EXTRACT(MONTH FROM startdate) = {month_number}\n",
    "    ) AS subquery\n",
    "    GROUP BY day_of_week\n",
    "    ORDER BY CASE\n",
    "             WHEN day_of_week = 'Sun' THEN 1\n",
    "             WHEN day_of_week = 'Mon' THEN 2\n",
    "             WHEN day_of_week = 'Tue' THEN 3\n",
    "             WHEN day_of_week = 'Wed' THEN 4\n",
    "             WHEN day_of_week = 'Thu' THEN 5\n",
    "             WHEN day_of_week = 'Fri' THEN 6\n",
    "             WHEN day_of_week = 'Sat' THEN 7\n",
    "             END;\n",
    "    \"\"\"\n",
    "\n",
    "    df = pd.read_sql_query(sql_query, conn)\n",
    "\n",
    "    plt.figure(figsize=(10, 6))\n",
    "    plt.bar(df['day_of_week'], df['trip_count'], color=colors[month_name])\n",
    "    plt.title(f'Trip Count Distribution by Day of Week for {month_name}')\n",
    "    plt.xlabel('Day of Week')\n",
    "    plt.ylabel('Trip Count')\n",
    "    plt.grid(True)\n",
    "    plt.xticks(rotation=45)\n",
    "    plt.tight_layout()\n",
    "    plt.show()\n",
    "\n",
    "conn.close()\n"
   ]
  },
  {
   "cell_type": "code",
   "execution_count": null,
   "id": "1b854636",
   "metadata": {
    "scrolled": true
   },
   "outputs": [],
   "source": [
    "heat_csv_path = '../data/heat.csv'\n",
    "heat_data = pd.read_csv(heat_csv_path)"
   ]
  },
  {
   "cell_type": "code",
   "execution_count": null,
   "id": "2963595a",
   "metadata": {},
   "outputs": [],
   "source": [
    "heat_data_head = heat_data.head()\n",
    "\n",
    "heat_data_head"
   ]
  },
  {
   "cell_type": "code",
   "execution_count": null,
   "id": "0ca89bb1",
   "metadata": {},
   "outputs": [],
   "source": [
    "import matplotlib.pyplot as plt\n",
    "\n",
    "\n",
    "plt.figure(figsize=(10, 6))\n",
    "\n",
    "\n",
    "plt.scatter(heat_data['startlongitude'], heat_data['startlatitude'], \n",
    "            alpha=0.5, c=heat_data['trip_count'], cmap='Reds', \n",
    "            s=heat_data['trip_count'] * 10)\n",
    "\n",
    "\n",
    "plt.xlabel('Longitude')\n",
    "plt.ylabel('Latitude')\n",
    "plt.title('Heatmap of Scooter Usage in Nashville for May 2019')\n",
    "\n",
    "\n",
    "plt.colorbar(label='Number of Trips')\n",
    "\n",
    "# Show the plot\n",
    "plt.show()\n"
   ]
  },
  {
   "cell_type": "code",
   "execution_count": null,
   "id": "4d26afeb",
   "metadata": {},
   "outputs": [],
   "source": [
    "def add_custom_legend(folium_map, title, colors, labels):\n",
    "    if len(colors) != len(labels):\n",
    "        raise ValueError(\"colors and labels must have the same length.\")\n",
    "\n",
    "    legend_html = f'''\n",
    "     <div style=\"position: fixed; \n",
    "                 bottom: 200px; left: 50px; width: 100px; height: 100px; \n",
    "                 border:2px solid grey; z-index:9999; font-size:14px;\n",
    "                 \">&nbsp; <b>{title}</b> <br>\n",
    "     '''\n",
    "    for color, label in zip(colors, labels):\n",
    "        legend_html += f'<i style=\"background:{color};width:10px;height:10px;display:inline-block;\"></i>{label}<br>'\n",
    "    legend_html += '</div>'\n",
    "\n",
    "    folium_map.get_root().html.add_child(folium.Element(legend_html))"
   ]
  },
  {
   "cell_type": "code",
   "execution_count": null,
   "id": "81d731bd",
   "metadata": {},
   "outputs": [],
   "source": [
    "heat_csv_path = '../data/heat.csv'\n",
    "heat_data = pd.read_csv(heat_csv_path)"
   ]
  },
  {
   "cell_type": "code",
   "execution_count": null,
   "id": "182dfe39",
   "metadata": {},
   "outputs": [],
   "source": [
    "heat_data_points = [[row['startlatitude'], row['startlongitude'], row['trip_count']] \n",
    "                    for index, row in heat_data.iterrows()]"
   ]
  },
  {
   "cell_type": "code",
   "execution_count": null,
   "id": "3eb3a82d",
   "metadata": {},
   "outputs": [],
   "source": [
    "nashville_center = [36.1627, -86.7816]\n",
    "map_nashville = folium.Map(location=nashville_center, tiles='OpenStreetMap', zoom_start=13)\n"
   ]
  },
  {
   "cell_type": "code",
   "execution_count": null,
   "id": "82f74f9d",
   "metadata": {
    "scrolled": true
   },
   "outputs": [],
   "source": [
    "heatmap_layer = HeatMap(heat_data_points, radius=10, max_zoom=1, \n",
    "                        gradient={0.2: 'green', 0.4: 'lime', 0.6: 'yellow', 0.8: 'orange', 1: 'red'}, \n",
    "                        blur=13)\n",
    "map_nashville.add_child(heatmap_layer)"
   ]
  },
  {
   "cell_type": "code",
   "execution_count": null,
   "id": "4ff46e44",
   "metadata": {},
   "outputs": [],
   "source": [
    "legend_title = \"Trip Count\"\n",
    "legend_colors = ['green', 'lime', 'yellow', 'orange', 'red']\n",
    "legend_labels = ['Very Low', 'Low', 'Moderate', 'High', 'Very High']\n",
    "add_custom_legend(map_nashville, legend_title, legend_colors, legend_labels)"
   ]
  },
  {
   "cell_type": "code",
   "execution_count": null,
   "id": "cf9fd2ac",
   "metadata": {},
   "outputs": [],
   "source": [
    "heatmap_html_path = '../data/scooter_heatmap_with_custom_legend.html'\n",
    "map_nashville.save(heatmap_html_path)"
   ]
  },
  {
   "cell_type": "code",
   "execution_count": 3,
   "id": "5f1392c9",
   "metadata": {},
   "outputs": [],
   "source": [
    "trip_coordinates = pd.read_csv('../data/tripcoordinates.csv')"
   ]
  },
  {
   "cell_type": "code",
   "execution_count": 5,
   "id": "fa16b45b",
   "metadata": {},
   "outputs": [],
   "source": [
    "m = folium.Map(location=[trip_coordinates['startlatitude'].mean(), \n",
    "                         trip_coordinates['startlongitude'].mean()], \n",
    "               zoom_start=13)"
   ]
  },
  {
   "cell_type": "code",
   "execution_count": 6,
   "id": "7d71b5f6",
   "metadata": {},
   "outputs": [],
   "source": [
    "marker_cluster = MarkerCluster().add_to(m)"
   ]
  },
  {
   "cell_type": "code",
   "execution_count": 10,
   "id": "ee6dc58d",
   "metadata": {},
   "outputs": [],
   "source": [
    "for idx, row in trip_coordinates.iterrows():\n",
    "\n",
    "    start_location = [row['startlatitude'], row['startlongitude']]\n",
    "    end_location = [row['endlatitude'], row['endlongitude']]\n",
    "\n",
    "    folium.CircleMarker(start_location, radius=1, color='green').add_to(marker_cluster)\n",
    "    folium.CircleMarker(end_location, radius=1, color='red').add_to(marker_cluster)\n",
    "\n",
    "    folium.PolyLine([start_location, end_location], color='blue', weight=1.5, opacity=0.2).add_to(m)\n"
   ]
  },
  {
   "cell_type": "code",
   "execution_count": 11,
   "id": "6dbd7e1a",
   "metadata": {},
   "outputs": [],
   "source": [
    "m"
   ]
  },
  {
   "cell_type": "code",
   "execution_count": null,
   "id": "b0f194ec",
   "metadata": {},
   "outputs": [],
   "source": []
  }
 ],
 "metadata": {
  "kernelspec": {
   "display_name": "Python 3 (ipykernel)",
   "language": "python",
   "name": "python3"
  },
  "language_info": {
   "codemirror_mode": {
    "name": "ipython",
    "version": 3
   },
   "file_extension": ".py",
   "mimetype": "text/x-python",
   "name": "python",
   "nbconvert_exporter": "python",
   "pygments_lexer": "ipython3",
   "version": "3.11.5"
  }
 },
 "nbformat": 4,
 "nbformat_minor": 5
}
